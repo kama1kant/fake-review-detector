{
 "cells": [
  {
   "cell_type": "code",
   "execution_count": 100,
   "id": "aab6694d-4fdb-4407-81cf-3fe19d065667",
   "metadata": {},
   "outputs": [
    {
     "name": "stdout",
     "output_type": "stream",
     "text": [
      "--2022-06-11 19:33:35--  http://deepyeti.ucsd.edu/jianmo/amazon/categoryFilesSmall/Appliances_5.json.gz\n",
      "Resolving deepyeti.ucsd.edu (deepyeti.ucsd.edu)... 169.228.63.50\n",
      "Connecting to deepyeti.ucsd.edu (deepyeti.ucsd.edu)|169.228.63.50|:80... connected.\n",
      "HTTP request sent, awaiting response... 200 OK\n",
      "Length: 72998 (71K) [application/octet-stream]\n",
      "Saving to: ‘Appliances_5.json.gz’\n",
      "\n",
      "Appliances_5.json.g 100%[===================>]  71.29K  --.-KB/s    in 0.04s   \n",
      "\n",
      "2022-06-11 19:33:36 (1.78 MB/s) - ‘Appliances_5.json.gz’ saved [72998/72998]\n",
      "\n"
     ]
    }
   ],
   "source": [
    "#Download Data\n",
    "\n",
    "# !wget http://deepyeti.ucsd.edu/jianmo/amazon/categoryFilesSmall/All_Beauty_5.json.gz\n",
    "# !wget http://deepyeti.ucsd.edu/jianmo/amazon/sample/meta_Computers.json.gz\n",
    "# !wget http://deepyeti.ucsd.edu/jianmo/amazon/categoryFilesSmall/AMAZON_FASHION_5.json.gz\n",
    "# !wget http://deepyeti.ucsd.edu/jianmo/amazon/categoryFilesSmall/Appliances_5.json.gz\n",
    "# !wget http://deepyeti.ucsd.edu/jianmo/amazon/categoryFilesSmall/Software_5.json.gz\n",
    "!wget http://deepyeti.ucsd.edu/jianmo/amazon/categoryFilesSmall/Appliances_5.json.gz"
   ]
  },
  {
   "cell_type": "code",
   "execution_count": 95,
   "id": "8ff2ea60-c240-4026-bd7b-1b556b918146",
   "metadata": {},
   "outputs": [],
   "source": [
    "import os\n",
    "import json\n",
    "import gzip\n",
    "import pandas as pd\n",
    "from urllib.request import urlopen\n",
    "import spacy"
   ]
  },
  {
   "cell_type": "code",
   "execution_count": 96,
   "id": "266f52d8-d119-4117-8170-3fcf85b77249",
   "metadata": {},
   "outputs": [],
   "source": [
    "class Dataset:\n",
    "    def __init__(self):\n",
    "        # self.FILE = 'data/Appliances_5.json.gz'\n",
    "        self.FILE_NAME = 'Software_5'\n",
    "        self.MIN_REVIEW_LENGTH = 50\n",
    "        self.MIN_KEYWORDS = 3\n",
    "    \n",
    "    def build_data(self):\n",
    "        self.get_data()\n",
    "        self.clean_data()\n",
    "        self.df_to_csv(self.df, 'data/review_'+self.FILE_NAME+'.csv')\n",
    "        # self.df_to_csv(self.df, 'data/review_Appliances_5.csv')\n",
    "    \n",
    "    def get_data(self):\n",
    "        self.data = []\n",
    "        with gzip.open('data/'+self.FILE_NAME+'.json.gz') as f:\n",
    "        # with gzip.open('data/Appliances_5.json.gz') as f:\n",
    "            for l in f:\n",
    "                self.data.append(json.loads(l.strip()))\n",
    "\n",
    "        print(len(self.data))\n",
    "        print(self.data[0])\n",
    "        \n",
    "    def clean_data(self):\n",
    "        print(len(self.data))\n",
    "        reviews = {}\n",
    "        reviews['reviewText'] = []\n",
    "        for row in self.data:\n",
    "            if 'reviewText' in row and len(row['reviewText']) > self.MIN_REVIEW_LENGTH:\n",
    "                reviews['reviewText'].append(row['reviewText'])\n",
    "\n",
    "        self.df = pd.DataFrame(reviews)\n",
    "        self.df.drop_duplicates(keep=False, inplace=False)\n",
    "        print(self.df)\n",
    "    \n",
    "    def df_to_csv(self, df, csv):\n",
    "        df.to_csv(csv, index=False, encoding='utf-8')\n",
    "    \n",
    "    def csv_to_df(self, csv):\n",
    "        return pd.read_csv(csv, header=None, usecols=[0])\n",
    "        \n",
    "    def get_keyword_tokens(self):\n",
    "        nlp = spacy.load('en_core_web_sm')\n",
    "        df = self.csv_to_df('data/review_'+self.FILE_NAME+'.csv')\n",
    "        # df = self.csv_to_df(\"data/review_Appliances_5.csv\")\n",
    "        v = df.to_numpy()\n",
    "        v = list(set(v.flatten()))     \n",
    "        \n",
    "        reviews = {'input_text':[], 'target_text':[]}\n",
    "        for i in range(len(v)):\n",
    "            sentence = v[i]\n",
    "            doc = nlp(sentence)\n",
    "\n",
    "            keywords = []\n",
    "            for token in doc:\n",
    "                if (not token.is_stop and token.is_alpha) and (token.tag_ == 'NN' or token.tag_ == 'VBG'):\n",
    "                    keywords.append(token.lemma_.lower())\n",
    "\n",
    "            if len(keywords) > self.MIN_KEYWORDS:\n",
    "                keywords = pd.Series(keywords).drop_duplicates().tolist()\n",
    "                keywords = ' | '.join(keywords)\n",
    "                reviews['input_text'].append(keywords.strip())\n",
    "                reviews['target_text'].append(sentence.strip())\n",
    "\n",
    "        reviews_list = pd.DataFrame(reviews)\n",
    "        print(reviews_list)\n",
    "        \n",
    "        df = reviews_list.copy()\n",
    "        print(df)\n",
    "        \n",
    "        df.to_csv('data/review_keywords_'+self.FILE_NAME+'.csv', columns=['input_text', 'target_text'], index=False)\n",
    "        # df.to_csv('data/review_keywords_Appliances_5.csv', columns=['input_text', 'target_text'], index=False)"
   ]
  },
  {
   "cell_type": "code",
   "execution_count": 97,
   "id": "74a0b695-e78e-4873-9d38-90fc8f69996d",
   "metadata": {},
   "outputs": [],
   "source": [
    "dataset = Dataset()"
   ]
  },
  {
   "cell_type": "code",
   "execution_count": 98,
   "id": "3fcf4d5e-0fa1-466b-b7f3-4c97101aee85",
   "metadata": {},
   "outputs": [
    {
     "name": "stdout",
     "output_type": "stream",
     "text": [
      "12805\n",
      "{'overall': 4.0, 'verified': False, 'reviewTime': '10 20, 2010', 'reviewerID': 'A38NELQT98S4H8', 'asin': '0321719816', 'style': {'Format:': ' DVD-ROM'}, 'reviewerName': 'WB Halper', 'reviewText': \"I've been using Dreamweaver (and it's predecessor Macromedia's UltraDev) for many years.  For someone who is an experienced web designer, this course is a high-level review of the CS5 version of Dreamweaver, but it doesn't go into a great enough level of detail to find it very useful.\\n\\nOn the other hand, this is a great tool for someone who is a relative novice at web design.  It starts off with a basic overview of HTML and continues through the concepts necessary to build a modern web site.  Someone who goes through this course should exit with enough knowledge to create something that does what you want it do do...within reason.  Don't expect to go off and build an entire e-commerce system with only this class under your belt.\\n\\nIt's important to note that there's a long gap from site design to actual implementation.  This course teaches you how to implement a design.  The user interface and overall user experience is a different subject that isn't covered here...it's possible to do a great implementation of an absolutely abysmal design.  I speak from experience.  :)\\n\\nAs I said above, if you're a novice, a relative newcomer or just an experienced web designer who wants a refresher course, this is a good way to do it.\", 'summary': 'A solid overview of Dreamweaver CS5', 'unixReviewTime': 1287532800}\n",
      "12805\n",
      "                                              reviewText\n",
      "0      I've been using Dreamweaver (and it's predeces...\n",
      "1      The demo is done with the PC version, with ref...\n",
      "2      If you've been wanting to learn how to create ...\n",
      "3      I've been creating websites with Dreamweaver f...\n",
      "4      I decided (after trying a number of other prod...\n",
      "...                                                  ...\n",
      "11370  When I ordered this it was listed as Photo Edi...\n",
      "11371  This software has SO much going on.  Theres a ...\n",
      "11372  I have used both more complex and less complex...\n",
      "11373  Pinnacle Studio 20 Ultimate is a perfectly ser...\n",
      "11374  A program that is fairly easy to use and provi...\n",
      "\n",
      "[11375 rows x 1 columns]\n"
     ]
    }
   ],
   "source": [
    "dataset.build_data()"
   ]
  },
  {
   "cell_type": "code",
   "execution_count": 99,
   "id": "d25a627d-51fe-4911-b13a-c23db3188e42",
   "metadata": {},
   "outputs": [
    {
     "name": "stdout",
     "output_type": "stream",
     "text": [
      "                                             input_text  \\\n",
      "0     version | software | pay | middle | update | f...   \n",
      "1     tech | support | fact | method | product | res...   \n",
      "2     look | hood | information | engine | user | in...   \n",
      "3     desktop | sound | video | editing | software |...   \n",
      "4     experience | accounting | product | version | ...   \n",
      "...                                                 ...   \n",
      "8706  packaging | gps | detail | interest | software...   \n",
      "8707             os | copy | run | non | reboot | money   \n",
      "8708  compare | site | advisory | user | web | fear ...   \n",
      "8709                     state | dvd | player | program   \n",
      "8710  purchase | blu | ray | burner | software | cha...   \n",
      "\n",
      "                                            target_text  \n",
      "0     I just recently converted to this version from...  \n",
      "1     If you have any problems you will not be able ...  \n",
      "2     Because, while I'm not about to go looking und...  \n",
      "3     Corel VideoStudio Ultimate X8 installed on my ...  \n",
      "4     My last experience with a Peachtree accounting...  \n",
      "...                                                 ...  \n",
      "8706  I love the maps and all you can do with them, ...  \n",
      "8707  Excellent OS Very stable. I have a copy runnin...  \n",
      "8708  When comparing Trend Micro's Internet Security...  \n",
      "8709  This can be upgraded by just stating from the ...  \n",
      "8710  After purchasing an internal blu-ray burner, I...  \n",
      "\n",
      "[8711 rows x 2 columns]\n",
      "                                             input_text  \\\n",
      "0     version | software | pay | middle | update | f...   \n",
      "1     tech | support | fact | method | product | res...   \n",
      "2     look | hood | information | engine | user | in...   \n",
      "3     desktop | sound | video | editing | software |...   \n",
      "4     experience | accounting | product | version | ...   \n",
      "...                                                 ...   \n",
      "8706  packaging | gps | detail | interest | software...   \n",
      "8707             os | copy | run | non | reboot | money   \n",
      "8708  compare | site | advisory | user | web | fear ...   \n",
      "8709                     state | dvd | player | program   \n",
      "8710  purchase | blu | ray | burner | software | cha...   \n",
      "\n",
      "                                            target_text  \n",
      "0     I just recently converted to this version from...  \n",
      "1     If you have any problems you will not be able ...  \n",
      "2     Because, while I'm not about to go looking und...  \n",
      "3     Corel VideoStudio Ultimate X8 installed on my ...  \n",
      "4     My last experience with a Peachtree accounting...  \n",
      "...                                                 ...  \n",
      "8706  I love the maps and all you can do with them, ...  \n",
      "8707  Excellent OS Very stable. I have a copy runnin...  \n",
      "8708  When comparing Trend Micro's Internet Security...  \n",
      "8709  This can be upgraded by just stating from the ...  \n",
      "8710  After purchasing an internal blu-ray burner, I...  \n",
      "\n",
      "[8711 rows x 2 columns]\n"
     ]
    }
   ],
   "source": [
    "dataset.get_keyword_tokens()"
   ]
  },
  {
   "cell_type": "code",
   "execution_count": null,
   "id": "5382aba8-eadb-4872-b0c0-7627f8f3e979",
   "metadata": {},
   "outputs": [],
   "source": []
  },
  {
   "cell_type": "code",
   "execution_count": 112,
   "id": "f46ef222-97d7-4364-9b86-75b2de82db34",
   "metadata": {},
   "outputs": [],
   "source": []
  },
  {
   "cell_type": "code",
   "execution_count": null,
   "id": "05e5e6d0-4d7d-4920-84d1-e443974e7ea0",
   "metadata": {},
   "outputs": [],
   "source": []
  },
  {
   "cell_type": "code",
   "execution_count": null,
   "id": "e32b7c99-9aae-45ff-a856-595d87a7cd54",
   "metadata": {},
   "outputs": [],
   "source": []
  },
  {
   "cell_type": "code",
   "execution_count": null,
   "id": "b910cb8f-1643-4a55-971d-79c9752b3c18",
   "metadata": {},
   "outputs": [],
   "source": []
  }
 ],
 "metadata": {
  "kernelspec": {
   "display_name": "Python 3 (ipykernel)",
   "language": "python",
   "name": "python3"
  },
  "language_info": {
   "codemirror_mode": {
    "name": "ipython",
    "version": 3
   },
   "file_extension": ".py",
   "mimetype": "text/x-python",
   "name": "python",
   "nbconvert_exporter": "python",
   "pygments_lexer": "ipython3",
   "version": "3.10.4"
  }
 },
 "nbformat": 4,
 "nbformat_minor": 5
}
